{
 "cells": [
  {
   "cell_type": "markdown",
   "metadata": {},
   "source": [
    "# Linked Lists: Detect a Cycle\n",
    "---"
   ]
  },
  {
   "cell_type": "markdown",
   "metadata": {},
   "source": [
    "A linked list is said to contain a cycle if any node is visited more than once while traversing the list.\n",
    "\n",
    "Complete the function provided in the editor below. It has one parameter: a pointer to a Node object named `head` that points to the head of a linked list. Your function must return a boolean denoting whether or not there is a cycle in the list. If there is a cycle, return true; otherwise, return false.\n",
    "\n",
    "Note: If the list is empty, `head` will be null."
   ]
  },
  {
   "cell_type": "markdown",
   "metadata": {},
   "source": [
    "### Strategy\n",
    "1. Keep track of visted nodes in a set.\n",
    "2. Stop if visited node is repeated."
   ]
  },
  {
   "cell_type": "code",
   "execution_count": 1,
   "metadata": {
    "collapsed": true
   },
   "outputs": [],
   "source": [
    "def has_cycle(head):\n",
    "    \"\"\" (node) -> bool\n",
    "    \n",
    "    Return True if cycle is detected in linked list.\n",
    "    \n",
    "    \"\"\"\n",
    "    \n",
    "    # Initalize current and visted nodes\n",
    "    current = head\n",
    "    visited = set()\n",
    "    \n",
    "    # While there is a current node, check if in visted.\n",
    "    while current:\n",
    "        if current in visited:\n",
    "            return True\n",
    "        visited.add(current)\n",
    "        current = current.next\n",
    "        \n",
    "    return False\n",
    "\n",
    "class Node(object):\n",
    "    def __init__(self, data = None, next_node = None):\n",
    "        self.data = data\n",
    "        self.next = next_node"
   ]
  }
 ],
 "metadata": {
  "anaconda-cloud": {},
  "kernelspec": {
   "display_name": "Python [conda env:aind]",
   "language": "python",
   "name": "conda-env-aind-py"
  },
  "language_info": {
   "codemirror_mode": {
    "name": "ipython",
    "version": 3
   },
   "file_extension": ".py",
   "mimetype": "text/x-python",
   "name": "python",
   "nbconvert_exporter": "python",
   "pygments_lexer": "ipython3",
   "version": "3.6.2"
  }
 },
 "nbformat": 4,
 "nbformat_minor": 2
}
