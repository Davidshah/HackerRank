{
 "cells": [
  {
   "cell_type": "markdown",
   "metadata": {},
   "source": [
    "# Recursion: Davis' Staircase\n",
    "---"
   ]
  },
  {
   "cell_type": "markdown",
   "metadata": {},
   "source": [
    "Davis has `s` staircases in his house and he likes to climb each staircase 1, 2, or 3 steps at a time. Being a very precocious child, he wonders how many ways there are to reach the top of the staircase.\n",
    "\n",
    "Given the respective heights for each of the staircases in his house, find and print the number of ways he can climb each staircase on a new line. "
   ]
  },
  {
   "cell_type": "markdown",
   "metadata": {},
   "source": [
    "### Strategy: Recursion with hash table"
   ]
  },
  {
   "cell_type": "code",
   "execution_count": 1,
   "metadata": {
    "collapsed": true
   },
   "outputs": [],
   "source": [
    "# Initalize hash table with base step values\n",
    "hash_table = {0:0, 1:1, 2:2, 3:4}\n",
    "\n",
    "def steps(n):\n",
    "    \"\"\"\n",
    "    Return number of ways to climb given staircase.\n",
    "    \n",
    "    >>> steps(1)\n",
    "    1\n",
    "    >>> steps(3)\n",
    "    4\n",
    "    \"\"\"\n",
    "    # Check if current height is already found\n",
    "    if n in hash_table.keys():\n",
    "        return hash_table.get(n)\n",
    "    \n",
    "    # If not, recursively perform function for each step value\n",
    "    result = steps(n-3) + steps(n-2) + steps(n-1)\n",
    "    hash_table.update({n: result})\n",
    "    return hash_table.get(n)"
   ]
  },
  {
   "cell_type": "code",
   "execution_count": 2,
   "metadata": {
    "collapsed": false,
    "scrolled": true
   },
   "outputs": [
    {
     "name": "stdout",
     "output_type": "stream",
     "text": [
      "1.61 µs ± 407 ns per loop (mean ± std. dev. of 6 runs, 1000 loops each)\n"
     ]
    }
   ],
   "source": [
    "%%timeit -n1000 -r6\n",
    "assert steps(1) == 1\n",
    "assert steps(3) == 4\n",
    "assert steps(7) == 44\n",
    "steps(100)"
   ]
  },
  {
   "cell_type": "markdown",
   "metadata": {},
   "source": [
    "### Strategy: Optimize with decorator"
   ]
  },
  {
   "cell_type": "code",
   "execution_count": 3,
   "metadata": {
    "collapsed": true
   },
   "outputs": [],
   "source": [
    "from functools import lru_cache\n",
    "\n",
    "@lru_cache(maxsize=None)\n",
    "def steps(n):\n",
    "    \"\"\"\n",
    "    Return number of ways to climb given staircase.\n",
    "    \n",
    "    >>> steps(1)\n",
    "    1\n",
    "    >>> steps(3)\n",
    "    4\n",
    "    \"\"\"\n",
    "    # Check if current height is already found\n",
    "    if n == 3:\n",
    "        return 4\n",
    "    elif n == 2:\n",
    "        return 2\n",
    "    elif n == 1:\n",
    "        return 1\n",
    "    \n",
    "    return steps(n-3) + steps(n-2) + steps(n-1)"
   ]
  },
  {
   "cell_type": "code",
   "execution_count": 4,
   "metadata": {
    "collapsed": false
   },
   "outputs": [
    {
     "name": "stdout",
     "output_type": "stream",
     "text": [
      "469 ns ± 30.5 ns per loop (mean ± std. dev. of 6 runs, 1000 loops each)\n"
     ]
    }
   ],
   "source": [
    "%%timeit -n1000 -r6\n",
    "assert steps(1) == 1\n",
    "assert steps(3) == 4\n",
    "assert steps(7) == 44\n",
    "steps(100)"
   ]
  }
 ],
 "metadata": {
  "anaconda-cloud": {},
  "kernelspec": {
   "display_name": "Python [conda env:aind]",
   "language": "python",
   "name": "conda-env-aind-py"
  },
  "language_info": {
   "codemirror_mode": {
    "name": "ipython",
    "version": 3
   },
   "file_extension": ".py",
   "mimetype": "text/x-python",
   "name": "python",
   "nbconvert_exporter": "python",
   "pygments_lexer": "ipython3",
   "version": "3.6.4"
  }
 },
 "nbformat": 4,
 "nbformat_minor": 2
}
