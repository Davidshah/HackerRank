{
 "cells": [
  {
   "cell_type": "markdown",
   "metadata": {},
   "source": [
    "# Arrays: Left Rotation\n",
    "---"
   ]
  },
  {
   "cell_type": "markdown",
   "metadata": {},
   "source": [
    "A left rotation operation on an array of size `n` shifts each of the array's elements `1` unit to the left. For example, if `2` left rotations are performed on array `[1,2,3,4,5]`, then the array would become `[3,4,5,1,2]`.\n",
    "\n",
    "Given an array of `n` integers and a number, `d`, perform `d` left rotations on the array. Then print the updated array as a single line of space-separated integers."
   ]
  },
  {
   "cell_type": "markdown",
   "metadata": {},
   "source": [
    "### Strategy\n",
    "1. Create new list `ret` to hold solution.\n",
    "2. In the event that `d > n`, use modular division to adjust `d`.\n",
    "3. Copy array `a` from index `d` to `end` and add to `ret`.\n",
    "4. Copy array `a` from index `0` to `d` and add to `ret`."
   ]
  },
  {
   "cell_type": "code",
   "execution_count": 1,
   "metadata": {
    "collapsed": true
   },
   "outputs": [],
   "source": [
    "def array_left_rotation(a, n, d):\n",
    "    \"\"\" (list, int, int) -> list\n",
    "    \n",
    "    Return array with elements shifted to left.\n",
    "    \n",
    "    >>> array_left_rotation([1,2,3,4,5], 5, 4)\n",
    "    [5,1,2,3,4]\n",
    "    >>> array_left_rotation([1,2,3,4,5], 5, 2)\n",
    "    [3,4,5,1,2]\n",
    "    \"\"\"\n",
    "    \n",
    "    # Initalize return list\n",
    "    ret = []\n",
    "    \n",
    "    # Check if d larger than n and adjust\n",
    "    if d > n:\n",
    "        d = d % n\n",
    "    \n",
    "    # Build return list\n",
    "    ret += a[d:]\n",
    "    ret += a[0:d]\n",
    "        \n",
    "    return ret "
   ]
  },
  {
   "cell_type": "code",
   "execution_count": 2,
   "metadata": {
    "collapsed": false
   },
   "outputs": [
    {
     "name": "stdout",
     "output_type": "stream",
     "text": [
      "2.6 µs ± 70.8 ns per loop (mean ± std. dev. of 6 runs, 1000 loops each)\n"
     ]
    }
   ],
   "source": [
    "%%timeit -n1000 -r6\n",
    "assert array_left_rotation([1,2,3,4,5], 5, 4) == [5,1,2,3,4]\n",
    "assert array_left_rotation([1,2,3,4,5], 5, 2) == [3,4,5,1,2]\n",
    "assert array_left_rotation([1,2,3,4,5], 5, 5) == [1,2,3,4,5]\n",
    "assert array_left_rotation([1,2,3,4,5], 5, 6) == [2,3,4,5,1]"
   ]
  }
 ],
 "metadata": {
  "anaconda-cloud": {},
  "kernelspec": {
   "display_name": "Python [conda env:aind]",
   "language": "python",
   "name": "conda-env-aind-py"
  },
  "language_info": {
   "codemirror_mode": {
    "name": "ipython",
    "version": 3
   },
   "file_extension": ".py",
   "mimetype": "text/x-python",
   "name": "python",
   "nbconvert_exporter": "python",
   "pygments_lexer": "ipython3",
   "version": "3.6.2"
  }
 },
 "nbformat": 4,
 "nbformat_minor": 2
}
