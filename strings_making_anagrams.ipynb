{
 "cells": [
  {
   "cell_type": "markdown",
   "metadata": {},
   "source": [
    "# Strings: Making Anagrams\n",
    "---"
   ]
  },
  {
   "cell_type": "markdown",
   "metadata": {},
   "source": [
    "Alice is taking a cryptography class and finding anagrams to be very useful. We consider two strings to be anagrams of each other if the first string's letters can be rearranged to form the second string. In other words, both strings must contain the same exact letters in the same exact frequency For example, bacdc and dcbac are anagrams, but bacdc and dcbad are not.\n",
    "\n",
    "Alice decides on an encryption scheme involving two large strings where encryption is dependent on the minimum number of character deletions required to make the two strings anagrams. Can you help her find this number?\n",
    "\n",
    "Given two strings, `a` and `b`, that may or may not be of the same length, determine the minimum number of character deletions required to make `a` and `b` anagrams. Any characters can be deleted from either of the strings. "
   ]
  },
  {
   "cell_type": "code",
   "execution_count": 1,
   "metadata": {
    "collapsed": true
   },
   "outputs": [],
   "source": [
    "def number_needed(a, b):\n",
    "    \"\"\" (str, str) -> int\n",
    "    \n",
    "    Return single integer denoting the number of characters\n",
    "    you must delete to make the two strings anagrams of each other.\n",
    "    \n",
    "    >>> number_needed('abc', 'cde')\n",
    "    4\n",
    "    >>> number_needed('abccf', 'cde')\n",
    "    6\n",
    "    \"\"\"\n",
    "    from collections import Counter\n",
    "    \n",
    "    # Count similar elements\n",
    "    similar = len(list((Counter(a) & Counter(b)).elements()))\n",
    "    \n",
    "    # Subtract similar elements from total length\n",
    "    ret = len(a) + len(b) - (similar * 2)\n",
    "    \n",
    "    return ret"
   ]
  },
  {
   "cell_type": "code",
   "execution_count": 2,
   "metadata": {
    "collapsed": false
   },
   "outputs": [
    {
     "name": "stdout",
     "output_type": "stream",
     "text": [
      "82.8 µs ± 14 µs per loop (mean ± std. dev. of 6 runs, 1000 loops each)\n"
     ]
    }
   ],
   "source": [
    "%%timeit -n1000 -r6\n",
    "assert number_needed('abc', 'cde') == 4\n",
    "assert number_needed('abccf', 'cde') == 6\n",
    "assert number_needed('abccf', 'ccf') == 2\n",
    "assert number_needed('abccf', 'ccfdhjkya') == 6"
   ]
  }
 ],
 "metadata": {
  "anaconda-cloud": {},
  "kernelspec": {
   "display_name": "Python [conda env:aind]",
   "language": "python",
   "name": "conda-env-aind-py"
  },
  "language_info": {
   "codemirror_mode": {
    "name": "ipython",
    "version": 3
   },
   "file_extension": ".py",
   "mimetype": "text/x-python",
   "name": "python",
   "nbconvert_exporter": "python",
   "pygments_lexer": "ipython3",
   "version": "3.6.2"
  }
 },
 "nbformat": 4,
 "nbformat_minor": 2
}
