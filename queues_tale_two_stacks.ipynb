{
 "cells": [
  {
   "cell_type": "markdown",
   "metadata": {},
   "source": [
    "# Queues: A tale of Two Stacks\n",
    "---"
   ]
  },
  {
   "cell_type": "markdown",
   "metadata": {},
   "source": [
    "A queue is an abstract data type that maintains the order in which elements were added to it, allowing the oldest elements to be removed from the front and new elements to be added to the rear. This is called a First-In-First-Out (FIFO) data structure because the first element added to the queue (i.e., the one that has been waiting the longest) is always the first one to be removed.\n",
    "\n",
    "A basic queue has the following operations:\n",
    "\n",
    "* Enqueue: add a new element to the end of the queue.\n",
    "* Dequeue: remove the element from the front of the queue and return it.\n",
    "\n",
    "In this challenge, you must first implement a queue using two stacks. Then process `q` queries, where each query is one of the following 3 types:\n",
    "\n",
    "1. Enqueue element `x` into the end of the queue.\n",
    "2. Dequeue the element at the front of the queue.\n",
    "3. Print the element at the front of the queue."
   ]
  },
  {
   "cell_type": "markdown",
   "metadata": {},
   "source": [
    "### Strategy\n",
    "\n",
    "This is fairly easy since python lists serve as both stacks and queues. Pythons built in deque could be used for performance sake.\n",
    "* Deques have O(1) speed for appendleft() and popleft() while lists have O(n) performance for insert(0, value) and pop(0).\n",
    "* Deque append performance is consistent because it never moves data."
   ]
  },
  {
   "cell_type": "code",
   "execution_count": 1,
   "metadata": {
    "collapsed": true
   },
   "outputs": [],
   "source": [
    "class MyQueue(object):\n",
    "    def __init__(self):\n",
    "        self.queue = []\n",
    "    \n",
    "    def peek(self):\n",
    "        return self.queue[0]\n",
    "        \n",
    "    def pop(self):\n",
    "        return self.queue.pop(0)\n",
    "        \n",
    "    def put(self, value):\n",
    "        self.queue.append(value)"
   ]
  },
  {
   "cell_type": "code",
   "execution_count": 2,
   "metadata": {
    "collapsed": false
   },
   "outputs": [
    {
     "name": "stdout",
     "output_type": "stream",
     "text": [
      "[1, 2, 3]\n"
     ]
    }
   ],
   "source": [
    "queue = MyQueue()\n",
    "queue.put(1)\n",
    "queue.put(2)\n",
    "queue.put(3)\n",
    "print(queue.queue)\n",
    "for i in range(10000000):\n",
    "    queue.put(i)"
   ]
  },
  {
   "cell_type": "code",
   "execution_count": 3,
   "metadata": {
    "collapsed": false
   },
   "outputs": [
    {
     "name": "stdout",
     "output_type": "stream",
     "text": [
      "8.21 ms ± 363 µs per loop (mean ± std. dev. of 7 runs, 100 loops each)\n"
     ]
    }
   ],
   "source": [
    "%%timeit\n",
    "queue.pop()\n",
    "queue.peek()"
   ]
  },
  {
   "cell_type": "markdown",
   "metadata": {},
   "source": [
    "### Deque"
   ]
  },
  {
   "cell_type": "code",
   "execution_count": 4,
   "metadata": {
    "collapsed": true
   },
   "outputs": [],
   "source": [
    "from collections import deque\n",
    "\n",
    "class MyQueue(object):\n",
    "    def __init__(self):\n",
    "        self.queue = deque()\n",
    "    \n",
    "    def peek(self):\n",
    "        return self.queue[0]\n",
    "        \n",
    "    def pop(self):\n",
    "        return self.queue.popleft()\n",
    "        \n",
    "    def put(self, value):\n",
    "        self.queue.append(value)"
   ]
  },
  {
   "cell_type": "code",
   "execution_count": 5,
   "metadata": {
    "collapsed": false
   },
   "outputs": [
    {
     "name": "stdout",
     "output_type": "stream",
     "text": [
      "deque([1, 2, 3])\n"
     ]
    }
   ],
   "source": [
    "queue = MyQueue()\n",
    "queue.put(1)\n",
    "queue.put(2)\n",
    "queue.put(3)\n",
    "print(queue.queue)\n",
    "for i in range(10000000):\n",
    "    queue.put(i)"
   ]
  },
  {
   "cell_type": "code",
   "execution_count": 6,
   "metadata": {
    "collapsed": false
   },
   "outputs": [
    {
     "name": "stdout",
     "output_type": "stream",
     "text": [
      "394 ns ± 15 ns per loop (mean ± std. dev. of 7 runs, 1000000 loops each)\n"
     ]
    }
   ],
   "source": [
    "%%timeit\n",
    "queue.pop()\n",
    "queue.peek()"
   ]
  }
 ],
 "metadata": {
  "anaconda-cloud": {},
  "kernelspec": {
   "display_name": "Python [conda env:aind]",
   "language": "python",
   "name": "conda-env-aind-py"
  },
  "language_info": {
   "codemirror_mode": {
    "name": "ipython",
    "version": 3
   },
   "file_extension": ".py",
   "mimetype": "text/x-python",
   "name": "python",
   "nbconvert_exporter": "python",
   "pygments_lexer": "ipython3",
   "version": "3.6.2"
  }
 },
 "nbformat": 4,
 "nbformat_minor": 2
}
