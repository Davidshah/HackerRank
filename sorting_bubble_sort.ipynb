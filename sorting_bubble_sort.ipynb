{
 "cells": [
  {
   "cell_type": "markdown",
   "metadata": {},
   "source": [
    "# Sorting: Bubble Sort\n",
    "---"
   ]
  },
  {
   "cell_type": "markdown",
   "metadata": {},
   "source": [
    "Consider the following version of Bubble Sort:\n",
    "```\n",
    "for (int i = 0; i < n; i++) {\n",
    "    \n",
    "    for (int j = 0; j < n - 1; j++) {\n",
    "        // Swap adjacent elements if they are in decreasing order\n",
    "        if (a[j] > a[j + 1]) {\n",
    "            swap(a[j], a[j + 1]);\n",
    "        }\n",
    "    }\n",
    "    \n",
    "}\n",
    "```\n",
    "Task\n",
    "Given an n-element array, `A = a0,a1,...,an`, of distinct elements, sort array `A` in ascending order using the Bubble Sort algorithm above. Once sorted, print the following three lines:\n",
    "\n",
    "1. Array is sorted in numSwaps swaps., where `numSwaps` is the number of swaps that took place.\n",
    "2. First Element: firstElement, where `firstElement` is the first element in the sorted array.\n",
    "3. Last Element: lastElement, where `lastElement` is the last element in the sorted array.\n",
    "\n",
    "Hint: To complete this challenge, you must add a variable that keeps a running tally of all swaps that occur during execution. "
   ]
  },
  {
   "cell_type": "markdown",
   "metadata": {},
   "source": [
    "### Strategy\n",
    "1. Theres not much to do here, the algorithm is already given. We just need to add a counter."
   ]
  },
  {
   "cell_type": "code",
   "execution_count": 1,
   "metadata": {
    "collapsed": false
   },
   "outputs": [],
   "source": [
    "def bubble_sort(a):\n",
    "    \"\"\" (list) -> str\n",
    "    Return number of swaps to bubble sort array.\n",
    "    \"\"\"\n",
    "    # Initalize variables\n",
    "    n = len(a)\n",
    "    swaps = 0\n",
    "    \n",
    "    for loop in range(n):\n",
    "        stop = 0\n",
    "        for i in range(n-1):\n",
    "            if a[i] > a[i+1]:\n",
    "                a[i], a[i+1] = a[i+1], a[i]\n",
    "                stop += 1\n",
    "                swaps += 1\n",
    "                \n",
    "        if stop == 0:\n",
    "            break\n",
    "                \n",
    "    print(\"Array is sorted in {} swaps.\".format(swaps))\n",
    "    print(\"First Element: {}\".format(a[0]))\n",
    "    print(\"Last Element: {}\".format(a[-1]))\n",
    "    \n",
    "                \n",
    "    #return a"
   ]
  },
  {
   "cell_type": "code",
   "execution_count": 2,
   "metadata": {
    "collapsed": false
   },
   "outputs": [
    {
     "name": "stdout",
     "output_type": "stream",
     "text": [
      "Array is sorted in 0 swaps.\n",
      "First Element: 1\n",
      "Last Element: 3\n",
      "Array is sorted in 3 swaps.\n",
      "First Element: 1\n",
      "Last Element: 3\n"
     ]
    }
   ],
   "source": [
    "bubble_sort([1,2,3])\n",
    "bubble_sort([3,2,1])"
   ]
  }
 ],
 "metadata": {
  "anaconda-cloud": {},
  "kernelspec": {
   "display_name": "Python [conda env:aind]",
   "language": "python",
   "name": "conda-env-aind-py"
  },
  "language_info": {
   "codemirror_mode": {
    "name": "ipython",
    "version": 3
   },
   "file_extension": ".py",
   "mimetype": "text/x-python",
   "name": "python",
   "nbconvert_exporter": "python",
   "pygments_lexer": "ipython3",
   "version": "3.6.2"
  }
 },
 "nbformat": 4,
 "nbformat_minor": 2
}
