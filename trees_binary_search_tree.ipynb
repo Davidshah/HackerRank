{
 "cells": [
  {
   "cell_type": "markdown",
   "metadata": {},
   "source": [
    "# Trees: Is This a Binary Search Tree\n",
    "---"
   ]
  },
  {
   "cell_type": "markdown",
   "metadata": {},
   "source": [
    "For the purposes of this challenge, we define a binary search tree to be a binary tree with the following ordering properties:\n",
    "\n",
    "* The data value of every node in a node's left subtree is less than the data value of that node.\n",
    "* The data value of every node in a node's right subtree is greater than the data value of that node.\n",
    "\n",
    "Given the root node of a binary tree, can you determine if it's also a binary search tree?\n",
    "\n",
    "Complete the function in your editor below, which has 1 parameter: a pointer to the root of a binary tree. It must return a boolean denoting whether or not the binary tree is a binary search tree. You may have to write one or more helper functions to complete this challenge.\n",
    "\n",
    "Note: We do not consider a binary tree to be a binary search tree if it contains duplicate values."
   ]
  },
  {
   "cell_type": "markdown",
   "metadata": {},
   "source": [
    "### Strategy: Stack"
   ]
  },
  {
   "cell_type": "code",
   "execution_count": 1,
   "metadata": {
    "collapsed": true
   },
   "outputs": [],
   "source": [
    "def checkBST(root):\n",
    "    \"\"\" (node) -> bool\n",
    "    Return True if given tree is a binary search tree.\n",
    "    \"\"\"\n",
    "    # Base case\n",
    "    if root is None:\n",
    "        return True\n",
    "    \n",
    "    # Initalize stack, starting inf nums ensure progress\n",
    "    stack = [(float('-inf'), root, float('+inf'))]\n",
    "    \n",
    "    while stack:\n",
    "        # Check current node on stack\n",
    "        left, node, right = stack.pop()\n",
    "        # Check left is less than node less then right\n",
    "        if not left < node.data < right:\n",
    "            return False\n",
    "        # Append left node and repeat\n",
    "        if node.left is not None:\n",
    "            stack.append((left, node.left, node.data))\n",
    "        # Append right node and repeat\n",
    "        if node.right is not None: \n",
    "            stack.append((node.data, node.right, right))\n",
    "            \n",
    "    return True"
   ]
  },
  {
   "cell_type": "markdown",
   "metadata": {},
   "source": [
    "### Strategy: Recursion"
   ]
  },
  {
   "cell_type": "code",
   "execution_count": 2,
   "metadata": {
    "collapsed": true
   },
   "outputs": [],
   "source": [
    "def check(root, min, max):\n",
    "    \"\"\"\n",
    "    Return True if given tree is a binary search tree.\n",
    "    \"\"\"\n",
    "    # Base case\n",
    "    if root == None:\n",
    "        return True\n",
    "    # Check structure\n",
    "    if not min < node.data < max:\n",
    "        return False\n",
    "    return check(root.left, min, root.data) and check(root.right, root.data, max)\n",
    "\n",
    "def checkBST(root, min, max):\n",
    "    \"\"\" (node) -> bool\n",
    "    Return True if given tree is a binary search tree.\n",
    "    \"\"\"\n",
    "    return check(root, float('-inf'), float('inf'))"
   ]
  }
 ],
 "metadata": {
  "kernelspec": {
   "display_name": "Python [conda env:aind]",
   "language": "python",
   "name": "conda-env-aind-py"
  },
  "language_info": {
   "codemirror_mode": {
    "name": "ipython",
    "version": 3
   },
   "file_extension": ".py",
   "mimetype": "text/x-python",
   "name": "python",
   "nbconvert_exporter": "python",
   "pygments_lexer": "ipython3",
   "version": "3.6.2"
  }
 },
 "nbformat": 4,
 "nbformat_minor": 2
}
