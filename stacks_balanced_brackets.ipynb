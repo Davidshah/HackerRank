{
 "cells": [
  {
   "cell_type": "markdown",
   "metadata": {},
   "source": [
    "# Stacks: Balanced Brackets\n",
    "---"
   ]
  },
  {
   "cell_type": "markdown",
   "metadata": {},
   "source": [
    "A bracket is considered to be any one of the following characters: (, ), {, }, [, or ].\n",
    "\n",
    "Two brackets are considered to be a matched pair if the an opening bracket (i.e., (, [, or {) occurs to the left of a closing bracket (i.e., ), ], or }) of the exact same type. There are three types of matched pairs of brackets: [], {}, and ().\n",
    "\n",
    "A matching pair of brackets is not balanced if the set of brackets it encloses are not matched. For example, {[(])} is not balanced because the contents in between { and } are not balanced. The pair of square brackets encloses a single, unbalanced opening bracket, (, and the pair of parentheses encloses a single, unbalanced closing square bracket, ].\n",
    "\n",
    "Some examples of balanced brackets are []{}(), [({})]{}() and ({(){}[]})[].\n",
    "\n",
    "By this logic, we say a sequence of brackets is considered to be balanced if the following conditions are met:\n",
    "\n",
    "* It contains no unmatched brackets.\n",
    "* The subset of brackets enclosed within the confines of a matched pair of brackets is also a matched pair of brackets.\n",
    "\n",
    "Given `n` strings of brackets, determine whether each sequence of brackets is balanced. If a string is balanced, print YES on a new line; otherwise, print NO on a new line."
   ]
  },
  {
   "cell_type": "markdown",
   "metadata": {},
   "source": [
    "### Strategy: Brute Force\n",
    "1. Remove closed brackets one at a time till finished."
   ]
  },
  {
   "cell_type": "code",
   "execution_count": 1,
   "metadata": {
    "collapsed": true
   },
   "outputs": [],
   "source": [
    "def is_matched(expression):\n",
    "    \"\"\" (str) -> bool\n",
    "    \n",
    "    Return True if expression is balanced.\n",
    "    \n",
    "    >>> is_matched('{[()]}')\n",
    "    True\n",
    "    >>> is_matched('{[(])}')\n",
    "    False\n",
    "    \"\"\"\n",
    "    \n",
    "    while len(expression) > 0:\n",
    "        test = expression\n",
    "        expression = expression.replace('()','')\n",
    "        expression = expression.replace('{}','')\n",
    "        expression = expression.replace('[]','')\n",
    "        # If nothing was removed, not balanced\n",
    "        if test == expression:\n",
    "            return False\n",
    "        \n",
    "    return True"
   ]
  },
  {
   "cell_type": "code",
   "execution_count": 2,
   "metadata": {
    "collapsed": false
   },
   "outputs": [
    {
     "name": "stdout",
     "output_type": "stream",
     "text": [
      "21.6 µs ± 5.84 µs per loop (mean ± std. dev. of 6 runs, 1000 loops each)\n"
     ]
    }
   ],
   "source": [
    "%%timeit -n1000 -r6\n",
    "assert is_matched('{[()]}') == True\n",
    "assert is_matched('{[(])}') == False\n",
    "assert is_matched(')()(') == False\n",
    "assert is_matched('[({})]{}()') == True\n",
    "assert is_matched('[({})]{(})') == False\n",
    "assert is_matched('[([({})]{}()[{}]([{}])()[({([])})])]') == True\n",
    "assert is_matched('[([({})]{}()[{}]([{}])()[({([])})])])') == False"
   ]
  },
  {
   "cell_type": "markdown",
   "metadata": {},
   "source": [
    "### Strategy: Stacks\n",
    "1. Return False of expression is odd.\n",
    "2. Create stack to keep track of needed closing brackets.\n",
    "3. Iterate through characters in string.\n",
    "4. If opening bracket add closing to stack.\n",
    "5. If closing bracket, check if top of stack matches.\n",
    "6. If not, return False.\n",
    "6. If completed for all characters and stack empty, return True."
   ]
  },
  {
   "cell_type": "code",
   "execution_count": 3,
   "metadata": {
    "collapsed": true
   },
   "outputs": [],
   "source": [
    "def is_matched(expression):\n",
    "    \"\"\" (str) -> bool\n",
    "    \n",
    "    Return True if expression is balanced.\n",
    "    \n",
    "    >>> is_matched('{[()]}')\n",
    "    True\n",
    "    >>> is_matched('{[(])}')\n",
    "    False\n",
    "    \"\"\"\n",
    "    \n",
    "    # Base case: ddd length aren't balanced\n",
    "    if len(expression) % 2 != 0:\n",
    "        return False\n",
    "    \n",
    "    # Initalize stack and pairs\n",
    "    stack = []\n",
    "    pairs = {'{' : '}', '[' : ']', '(' : ')'}\n",
    "    \n",
    "    for c in expression:\n",
    "        # If opening, add closing to stack\n",
    "        if c in pairs:\n",
    "            stack.append(pairs[c])\n",
    "        # If closing, check if stack is empty or no match\n",
    "        # If match found, pop from stack and continue\n",
    "        elif not stack or c != stack.pop():\n",
    "            return False\n",
    "        \n",
    "    return not stack"
   ]
  },
  {
   "cell_type": "code",
   "execution_count": 4,
   "metadata": {
    "collapsed": false
   },
   "outputs": [
    {
     "name": "stdout",
     "output_type": "stream",
     "text": [
      "15.1 µs ± 726 ns per loop (mean ± std. dev. of 6 runs, 1000 loops each)\n"
     ]
    }
   ],
   "source": [
    "%%timeit -n1000 -r6\n",
    "assert is_matched('{[()]}') == True\n",
    "assert is_matched('{[(])}') == False\n",
    "assert is_matched(')()(') == False\n",
    "assert is_matched('[({})]{}()') == True\n",
    "assert is_matched('[({})]{(})') == False\n",
    "assert is_matched('[([({})]{}()[{}]([{}])()[({([])})])]') == True\n",
    "assert is_matched('[([({})]{}()[{}]([{}])()[({([])})])])') == False"
   ]
  }
 ],
 "metadata": {
  "anaconda-cloud": {},
  "kernelspec": {
   "display_name": "Python [conda env:aind]",
   "language": "python",
   "name": "conda-env-aind-py"
  },
  "language_info": {
   "codemirror_mode": {
    "name": "ipython",
    "version": 3
   },
   "file_extension": ".py",
   "mimetype": "text/x-python",
   "name": "python",
   "nbconvert_exporter": "python",
   "pygments_lexer": "ipython3",
   "version": "3.6.2"
  }
 },
 "nbformat": 4,
 "nbformat_minor": 2
}
