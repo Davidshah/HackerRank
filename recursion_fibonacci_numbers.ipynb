{
 "cells": [
  {
   "cell_type": "markdown",
   "metadata": {},
   "source": [
    "# Recursion: Fibonacci Numbers\n",
    "---"
   ]
  },
  {
   "cell_type": "markdown",
   "metadata": {},
   "source": [
    "The Fibonacci sequence begins with `fibonacci(0) = 0` and `fibonacci(1) = 1` as its respective first and second terms. After these first two elements, each subsequent element is equal to the sum of the previous two elements.\n",
    "\n",
    "Here is the basic information you need to calculate `fibonacci(n)`:\n",
    "```\n",
    "fibonacci(0) = 0\n",
    "fibonacci(1) = 1\n",
    "fibonacci(n) = fibonacci(n-1) + fibonacci(n-2)\n",
    "```\n",
    "Given `n`, complete the fibonacci function so it returns `fibonacci(n)`."
   ]
  },
  {
   "cell_type": "markdown",
   "metadata": {},
   "source": [
    "### Strategy\n",
    "1. Set value for 0 and 1.\n",
    "2. Recursivly add last two values."
   ]
  },
  {
   "cell_type": "code",
   "execution_count": 1,
   "metadata": {
    "collapsed": true
   },
   "outputs": [],
   "source": [
    "def fibonacci(n):\n",
    "    \"\"\" (int) -> int\n",
    "    \n",
    "    Return fibonancci sequence value at given index.\n",
    "    \n",
    "    >>> fibonacci(1)\n",
    "    1\n",
    "    >>> fibonacci(3)\n",
    "    2\n",
    "    >>> fibonacci(6)\n",
    "    8\n",
    "    \"\"\"\n",
    "    \n",
    "    # Base case\n",
    "    if n == 0:\n",
    "        return 0\n",
    "    elif n == 1:\n",
    "        return 1\n",
    "    \n",
    "    return fibonacci(n-1) + fibonacci(n-2)   "
   ]
  },
  {
   "cell_type": "code",
   "execution_count": 2,
   "metadata": {
    "collapsed": false
   },
   "outputs": [
    {
     "name": "stdout",
     "output_type": "stream",
     "text": [
      "8.02 µs ± 3.37 µs per loop (mean ± std. dev. of 6 runs, 1000 loops each)\n"
     ]
    }
   ],
   "source": [
    "%%timeit -n1000 -r6\n",
    "assert fibonacci(0) == 0\n",
    "assert fibonacci(1) == 1\n",
    "assert fibonacci(3) == 2\n",
    "assert fibonacci(6) == 8"
   ]
  }
 ],
 "metadata": {
  "anaconda-cloud": {},
  "kernelspec": {
   "display_name": "Python [conda env:aind]",
   "language": "python",
   "name": "conda-env-aind-py"
  },
  "language_info": {
   "codemirror_mode": {
    "name": "ipython",
    "version": 3
   },
   "file_extension": ".py",
   "mimetype": "text/x-python",
   "name": "python",
   "nbconvert_exporter": "python",
   "pygments_lexer": "ipython3",
   "version": "3.6.2"
  }
 },
 "nbformat": 4,
 "nbformat_minor": 2
}
