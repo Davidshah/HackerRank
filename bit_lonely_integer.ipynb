{
 "cells": [
  {
   "cell_type": "markdown",
   "metadata": {},
   "source": [
    "# Bit Manipulation: Lonely Integer\n",
    "---"
   ]
  },
  {
   "cell_type": "markdown",
   "metadata": {},
   "source": [
    "Consider an array of `n` integers, `A = a0, a1,..., an`, where all but one of the integers occur in pairs. In other words, every element in `A` occurs exactly twice except for one unique element.\n",
    "\n",
    "Given `A`, find and print the unique element."
   ]
  },
  {
   "cell_type": "markdown",
   "metadata": {},
   "source": [
    "### Strategy: Counter\n",
    "1. Count element frequencies and return least frequent."
   ]
  },
  {
   "cell_type": "code",
   "execution_count": 1,
   "metadata": {
    "collapsed": true
   },
   "outputs": [],
   "source": [
    "def lonely_integer(a):\n",
    "    \"\"\" (list) -> int\n",
    "    Return unique element in list.\n",
    "    \"\"\"\n",
    "    from collections import Counter\n",
    "    count = Counter(a)\n",
    "    \n",
    "    return count.most_common()[-1][0]"
   ]
  },
  {
   "cell_type": "code",
   "execution_count": 2,
   "metadata": {
    "collapsed": false
   },
   "outputs": [
    {
     "name": "stdout",
     "output_type": "stream",
     "text": [
      "20.4 µs ± 973 ns per loop (mean ± std. dev. of 6 runs, 1000 loops each)\n"
     ]
    }
   ],
   "source": [
    "%%timeit -n1000 -r6\n",
    "assert lonely_integer([1]) == 1\n",
    "assert lonely_integer([1, 1, 2]) == 2\n",
    "assert lonely_integer([0, 0, 1, 2, 1]) == 2"
   ]
  },
  {
   "cell_type": "markdown",
   "metadata": {},
   "source": [
    "### Strategy: Bit Manipulation\n",
    "Because we know all the elements are given in pairs except for the one we're looking for, the most efficient approach to this problem uses exclusive OR (XOR). When you XOR two bits together, matching values cancel each other out and we are left with the odd man out. XOR just means this or this but not both, so an int XOR'd with itself will return 0. The odd man out XOR'd with zero will return itself.\n",
    "1. Create a `ret` variable and initialize it to 0.\n",
    "2. Iterate through each element in the array and XOR it with `ret`.\n",
    "3. Return final value of `ret`"
   ]
  },
  {
   "cell_type": "code",
   "execution_count": 3,
   "metadata": {
    "collapsed": true
   },
   "outputs": [],
   "source": [
    "def lonely_integer(a):\n",
    "    \"\"\" (list) -> int\n",
    "    Return unique element in list.\n",
    "    \"\"\"\n",
    "    ret = 0\n",
    "    for i in a:\n",
    "        ret ^= i\n",
    "        \n",
    "    return ret"
   ]
  },
  {
   "cell_type": "code",
   "execution_count": 4,
   "metadata": {
    "collapsed": false
   },
   "outputs": [
    {
     "name": "stdout",
     "output_type": "stream",
     "text": [
      "1.22 µs ± 3.55 ns per loop (mean ± std. dev. of 6 runs, 1000 loops each)\n"
     ]
    }
   ],
   "source": [
    "%%timeit -n1000 -r6\n",
    "assert lonely_integer([1]) == 1\n",
    "assert lonely_integer([1, 1, 2]) == 2\n",
    "assert lonely_integer([0, 0, 1, 2, 1]) == 2"
   ]
  }
 ],
 "metadata": {
  "anaconda-cloud": {},
  "kernelspec": {
   "display_name": "Python [conda env:aind]",
   "language": "python",
   "name": "conda-env-aind-py"
  },
  "language_info": {
   "codemirror_mode": {
    "name": "ipython",
    "version": 3
   },
   "file_extension": ".py",
   "mimetype": "text/x-python",
   "name": "python",
   "nbconvert_exporter": "python",
   "pygments_lexer": "ipython3",
   "version": "3.6.2"
  }
 },
 "nbformat": 4,
 "nbformat_minor": 2
}
