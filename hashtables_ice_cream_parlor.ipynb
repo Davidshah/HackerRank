{
 "cells": [
  {
   "cell_type": "markdown",
   "metadata": {},
   "source": [
    "# Hash Tables: Ice Cream Parlor\n",
    "---"
   ]
  },
  {
   "cell_type": "markdown",
   "metadata": {},
   "source": [
    "Each time Sunny and Johnny take a trip to the Ice Cream Parlor, they pool together `money` dollars for ice cream. On any given day, the parlor offers a line of `n` flavors. Each flavor, `i`, is numbered sequentially with a unique ID number from `1` to `n` and has a cost, `costi`, associated with it.\n",
    "\n",
    "Given the value of `money` and the cost of each flavor for `t` trips to the Ice Cream Parlor, help Sunny and Johnny choose two distinct flavors such that they spend their entire pool of money during each visit. For each trip to the parlor, print the ID numbers for the two types of ice cream that Sunny and Johnny purchase as two space-separated integers on a new line. You must print the smaller ID first and the larger ID second.\n",
    "\n",
    "*Note: Two ice creams having unique IDs `i` and `j` may have the same cost (i.e., `costi == costj`).*"
   ]
  },
  {
   "cell_type": "markdown",
   "metadata": {},
   "source": [
    "### Strategy: Brute Force\n",
    "1. Run a nested loop on array for each element pair.\n",
    "2. When valid solution found stop."
   ]
  },
  {
   "cell_type": "code",
   "execution_count": 1,
   "metadata": {
    "collapsed": true
   },
   "outputs": [],
   "source": [
    "def solve(arr, money):\n",
    "    \"\"\" (list, int) -> str\n",
    "    Return two space-seperated integers denoting the\n",
    "    ID of two flavors choosen to purchase that uses up\n",
    "    money.\n",
    "    \n",
    "    >>> solve([1,4,5,3,2], 4)\n",
    "    1 4\n",
    "    >>> solve([2,2,4,3], 4)\n",
    "    1 2\n",
    "    \"\"\"\n",
    "    \n",
    "    # Nested loop\n",
    "    for i in range(len(arr)):\n",
    "        for j in range(i+1, len(arr)):\n",
    "            if arr[i] + arr[j] == money:\n",
    "                return (i+1, j+1)"
   ]
  },
  {
   "cell_type": "code",
   "execution_count": 2,
   "metadata": {
    "collapsed": false
   },
   "outputs": [
    {
     "name": "stdout",
     "output_type": "stream",
     "text": [
      "5.03 µs ± 1.05 µs per loop (mean ± std. dev. of 6 runs, 1000 loops each)\n"
     ]
    }
   ],
   "source": [
    "%%timeit -n1000 -r6\n",
    "assert solve([1,4,5,3,2], 4) == (1, 4)\n",
    "assert solve([2,2,4,3], 4) == (1, 2)"
   ]
  },
  {
   "cell_type": "markdown",
   "metadata": {},
   "source": [
    "### Solution: Hash table\n",
    "1. Create hash table to store prior costs.\n",
    "2. Check if current cost subtracted from money equals an element in hash table.\n",
    "3. Return indexes of solution."
   ]
  },
  {
   "cell_type": "code",
   "execution_count": 3,
   "metadata": {
    "collapsed": true
   },
   "outputs": [],
   "source": [
    "def solve(arr, money):\n",
    "    \"\"\" (list, int) -> str\n",
    "    Return two space-seperated integers denoting the\n",
    "    ID of two flavors choosen to purchase that uses up\n",
    "    money.\n",
    "    \n",
    "    >>> solve([1,4,5,3,2], 4)\n",
    "    1 4\n",
    "    >>> solve([2,2,4,3], 4)\n",
    "    1 2\n",
    "    \"\"\"\n",
    "    \n",
    "    # Initalize hash table\n",
    "    table = {}\n",
    "    \n",
    "    # Iterate through flavor cost array\n",
    "    for i, cost in enumerate(arr):\n",
    "        # Set costs for both customers\n",
    "        cust1 = cost\n",
    "        cust2 = money - cost\n",
    "        \n",
    "        # Check hash table for cust2\n",
    "        # if found return solution\n",
    "        if cust2 in table.keys():\n",
    "            return (table[cust2]+1, i+1)\n",
    "        else:\n",
    "            table[cost] = i"
   ]
  },
  {
   "cell_type": "code",
   "execution_count": 4,
   "metadata": {
    "collapsed": false
   },
   "outputs": [
    {
     "name": "stdout",
     "output_type": "stream",
     "text": [
      "2.05 µs ± 18.6 ns per loop (mean ± std. dev. of 6 runs, 1000 loops each)\n"
     ]
    }
   ],
   "source": [
    "%%timeit -n1000 -r6\n",
    "assert solve([1,4,5,3,2], 4) == (1, 4)\n",
    "assert solve([2,2,4,3], 4) == (1, 2)"
   ]
  }
 ],
 "metadata": {
  "anaconda-cloud": {},
  "kernelspec": {
   "display_name": "Python [conda env:aind]",
   "language": "python",
   "name": "conda-env-aind-py"
  },
  "language_info": {
   "codemirror_mode": {
    "name": "ipython",
    "version": 3
   },
   "file_extension": ".py",
   "mimetype": "text/x-python",
   "name": "python",
   "nbconvert_exporter": "python",
   "pygments_lexer": "ipython3",
   "version": "3.6.4"
  }
 },
 "nbformat": 4,
 "nbformat_minor": 2
}
