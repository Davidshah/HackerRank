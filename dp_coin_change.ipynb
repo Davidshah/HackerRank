{
 "cells": [
  {
   "cell_type": "markdown",
   "metadata": {},
   "source": [
    "# Dynamic Programming: Coin Change\n",
    "---"
   ]
  },
  {
   "cell_type": "markdown",
   "metadata": {},
   "source": [
    "Given a number of dollars, `n`, and a list of dollar values for distinct coins, `C = {c0,c1,cn}`, find and print the number of different ways you can make change for `n` dollars if each coin is available in an infinite quantity.\n",
    "\n",
    "Hints:\n",
    "\n",
    "* You can solve this problem recursively, but you must optimize your solution to eliminate overlapping subproblems using Dynamic Programming if you wish to pass all test cases. More specifically, think of ways to store the checked solutions and use the stored values to avoid repeatedly calculating the same values.\n",
    "* Think about the degenerate cases:\n",
    "    * How many ways can you make change for 0 dollars?\n",
    "    * How many ways can you make change for less than 0 dollars if you have no coins?\n",
    "* If you are having trouble defining the storage for your precomputed values, then think about it in terms of the base case (n = 0)."
   ]
  },
  {
   "cell_type": "markdown",
   "metadata": {},
   "source": [
    "### Strategy: Hash Table\n",
    "1. Initalize hash table for size of n.\n",
    "2. Set zero dollars to 1. First element in hash table.\n",
    "3. Iterate through coins, adding to hash table."
   ]
  },
  {
   "cell_type": "code",
   "execution_count": 1,
   "metadata": {
    "collapsed": true
   },
   "outputs": [],
   "source": [
    "def make_change(coins, n):\n",
    "    \"\"\" (list, int) -> int\n",
    "    Return number of different ways to make change for\n",
    "    n dollars.\n",
    "    \n",
    "    >>> make_change([1,2,3], 4)\n",
    "    4\n",
    "    >>> make_change([2,5,3,6], 10)\n",
    "    5\n",
    "    \"\"\"\n",
    "    \n",
    "    # Initalize hash table\n",
    "    hash_table = [1] + [0] * n\n",
    "    \n",
    "    # Iterate through coin types\n",
    "    for coin in coins:\n",
    "        # Store counts for each coin\n",
    "        for i in range(n+1-coin):\n",
    "            hash_table[i+coin] += hash_table[i]\n",
    "            \n",
    "    return hash_table[n]"
   ]
  },
  {
   "cell_type": "code",
   "execution_count": 2,
   "metadata": {
    "collapsed": false
   },
   "outputs": [
    {
     "name": "stdout",
     "output_type": "stream",
     "text": [
      "7.51 µs ± 253 ns per loop (mean ± std. dev. of 7 runs, 100000 loops each)\n"
     ]
    }
   ],
   "source": [
    "%%timeit\n",
    "assert make_change([1,2,3], 4) == 4\n",
    "assert make_change([2,5,3,6], 10) == 5\n",
    "assert make_change([2,5], 0) == 1"
   ]
  },
  {
   "cell_type": "markdown",
   "metadata": {},
   "source": [
    "### Strategy: Recursion with DP\n",
    "1. Initalize cache to store memory.\n",
    "2. Eliminate base cases.\n",
    "3. Recursively count with count function."
   ]
  },
  {
   "cell_type": "code",
   "execution_count": 3,
   "metadata": {
    "collapsed": false
   },
   "outputs": [],
   "source": [
    "from functools import lru_cache\n",
    "\n",
    "def make_change(coins, n):\n",
    "    \"\"\" (list, int) -> int\n",
    "    Return number of different ways to make change for\n",
    "    n dollars.\n",
    "    \n",
    "    >>> make_change([1,2,3], 4)\n",
    "    4\n",
    "    >>> make_change([2,5,3,6], 10)\n",
    "    5\n",
    "    \"\"\"\n",
    "    \n",
    "    # Initalize hash table\n",
    "    coins = sorted(coins, reverse=True)\n",
    "    @lru_cache(maxsize=None)\n",
    "    def count(n, m):\n",
    "        if n < 0 or m == 0:\n",
    "            return 0\n",
    "        if n == 0:\n",
    "            return 1\n",
    "        return count(n - coins[m-1], m) + count(n, m - 1)\n",
    "    return count(n, len(coins))"
   ]
  },
  {
   "cell_type": "code",
   "execution_count": 4,
   "metadata": {
    "collapsed": false
   },
   "outputs": [
    {
     "name": "stdout",
     "output_type": "stream",
     "text": [
      "42.8 µs ± 1.99 µs per loop (mean ± std. dev. of 7 runs, 10000 loops each)\n"
     ]
    }
   ],
   "source": [
    "%%timeit\n",
    "assert make_change([1,2,3], 4) == 4\n",
    "assert make_change([2,5,3,6], 10) == 5\n",
    "assert make_change([2,5], 0) == 1"
   ]
  }
 ],
 "metadata": {
  "anaconda-cloud": {},
  "kernelspec": {
   "display_name": "Python [conda env:aind]",
   "language": "python",
   "name": "conda-env-aind-py"
  },
  "language_info": {
   "codemirror_mode": {
    "name": "ipython",
    "version": 3
   },
   "file_extension": ".py",
   "mimetype": "text/x-python",
   "name": "python",
   "nbconvert_exporter": "python",
   "pygments_lexer": "ipython3",
   "version": "3.6.4"
  }
 },
 "nbformat": 4,
 "nbformat_minor": 2
}
