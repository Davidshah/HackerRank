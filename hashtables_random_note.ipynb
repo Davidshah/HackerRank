{
 "cells": [
  {
   "cell_type": "markdown",
   "metadata": {},
   "source": [
    "# Hash Tables: Ransom Note\n",
    "---"
   ]
  },
  {
   "cell_type": "markdown",
   "metadata": {},
   "source": [
    "A kidnapper wrote a ransom note but is worried it will be traced back to him. He found a magazine and wants to know if he can cut out whole words from it and use them to create an untraceable replica of his ransom note. The words in his note are case-sensitive and he must use whole words available in the magazine, meaning he cannot use substrings or concatenation to create the words he needs.\n",
    "\n",
    "Given the words in the magazine and the words in the ransom note, print Yes if he can replicate his ransom note exactly using whole words from the magazine; otherwise, print No."
   ]
  },
  {
   "cell_type": "markdown",
   "metadata": {},
   "source": [
    "### Strategy\n",
    "\n",
    "1. Map word frequencies for each string with `Counter`.\n",
    "2. Compare word frequencies and count similar.\n",
    "3. Check if enough similar words to reproduce note."
   ]
  },
  {
   "cell_type": "code",
   "execution_count": 1,
   "metadata": {
    "collapsed": true
   },
   "outputs": [],
   "source": [
    "def ransom_note(magazine, ransom):\n",
    "    \"\"\" (str, str) -> bool\n",
    "    \n",
    "    Return true if words in magazine can be\n",
    "    used to replicate ransom note.\n",
    "    \n",
    "    >>> ransom_note('give me one grand today night',\n",
    "                    'give one grand today')\n",
    "    True\n",
    "    >>> ransom_note('two times three is not four',\n",
    "                    'two times two is four')\n",
    "    False\n",
    "    \"\"\"\n",
    "    from collections import Counter\n",
    "    \n",
    "    # Create counter for words\n",
    "    mag_words = Counter(magazine)\n",
    "    ran_words = Counter(ransom)\n",
    "    \n",
    "    # Count similar words\n",
    "    similar_words = len(list((mag_words & ran_words).elements()))\n",
    "    \n",
    "    # Check if enough similar words to reproduce\n",
    "    if similar_words == len(ransom):\n",
    "        return True\n",
    "    \n",
    "    return False"
   ]
  },
  {
   "cell_type": "code",
   "execution_count": 2,
   "metadata": {
    "collapsed": false
   },
   "outputs": [
    {
     "name": "stdout",
     "output_type": "stream",
     "text": [
      "77.7 µs ± 22.5 µs per loop (mean ± std. dev. of 6 runs, 1000 loops each)\n"
     ]
    }
   ],
   "source": [
    "%%timeit -n1000 -r6\n",
    "assert ransom_note('give me one grand today night', 'give one grand today') == True\n",
    "assert ransom_note('two times three is not four', 'two times two is four') == False\n",
    "assert ransom_note('two times three is not four', 'two times two is not four apple') == False"
   ]
  },
  {
   "cell_type": "markdown",
   "metadata": {},
   "source": [
    "### Optimized"
   ]
  },
  {
   "cell_type": "code",
   "execution_count": 3,
   "metadata": {
    "collapsed": true
   },
   "outputs": [],
   "source": [
    "def ransom_note(magazine, ransom):\n",
    "    \"\"\" (str, str) -> bool\n",
    "    \n",
    "    Return true if words in magazine can be\n",
    "    used to replicate ransom note.\n",
    "    \n",
    "    >>> ransom_note('give me one grand today night',\n",
    "                    'give one grand today')\n",
    "    True\n",
    "    >>> ransom_note('two times three is not four',\n",
    "                    'two times two is four')\n",
    "    False\n",
    "    \"\"\"\n",
    "    \n",
    "    from collections import Counter\n",
    "    return not (Counter(ransom) - Counter(magazine))  "
   ]
  },
  {
   "cell_type": "code",
   "execution_count": 4,
   "metadata": {
    "collapsed": false
   },
   "outputs": [
    {
     "name": "stdout",
     "output_type": "stream",
     "text": [
      "62.7 µs ± 9.26 µs per loop (mean ± std. dev. of 6 runs, 1000 loops each)\n"
     ]
    }
   ],
   "source": [
    "%%timeit -n1000 -r6\n",
    "assert ransom_note('give me one grand today night', 'give one grand today') == True\n",
    "assert ransom_note('two times three is not four', 'two times two is four') == False\n",
    "assert ransom_note('two times three is not four', 'two times two is not four apple') == False"
   ]
  }
 ],
 "metadata": {
  "kernelspec": {
   "display_name": "Python [conda env:aind]",
   "language": "python",
   "name": "conda-env-aind-py"
  },
  "language_info": {
   "codemirror_mode": {
    "name": "ipython",
    "version": 3
   },
   "file_extension": ".py",
   "mimetype": "text/x-python",
   "name": "python",
   "nbconvert_exporter": "python",
   "pygments_lexer": "ipython3",
   "version": "3.6.2"
  }
 },
 "nbformat": 4,
 "nbformat_minor": 2
}
