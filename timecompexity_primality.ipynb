{
 "cells": [
  {
   "cell_type": "markdown",
   "metadata": {},
   "source": [
    "# Time Complexity: Primality\n",
    "---"
   ]
  },
  {
   "cell_type": "markdown",
   "metadata": {},
   "source": [
    "A prime is a natural number greater than 1 that has no positive divisors other than 1 and itself. Given `p` integers, determine the primality of each integer and print whether it is `Prime` or `Not prime` on a new line.\n",
    "\n",
    "Note: If possible, try to come up with an O(sqrt(n)) primality algorithm, or see what sort of optimizations you can come up with for an O(n) algorithm. Be sure to check out the Editorial after submitting your code!"
   ]
  },
  {
   "cell_type": "markdown",
   "metadata": {},
   "source": [
    "### Strategy\n",
    "1. Return base case situations (1,2,3)\n",
    "2. Check for divisability by 2 or 3.\n",
    "3. Check for divisability by every number up to sqrt(n)"
   ]
  },
  {
   "cell_type": "code",
   "execution_count": 1,
   "metadata": {
    "collapsed": true
   },
   "outputs": [],
   "source": [
    "import math \n",
    "\n",
    "def is_prime(n):\n",
    "    \"\"\" (int) -> bool\n",
    "    Return whether given number is prime.\n",
    "    \"\"\"\n",
    "    # Initalize base case\n",
    "    if n < 2:\n",
    "        return False\n",
    "    elif n <= 3:\n",
    "        return True\n",
    "    # Check if divisable by 2 or 3\n",
    "    elif n % 2 == 0 or n % 3 == 0:\n",
    "        return False\n",
    "    else:\n",
    "        # Check up to square root of n for divisability\n",
    "        for i in range(3, math.ceil(math.sqrt(n))):\n",
    "            if n % i == 0:\n",
    "                return False\n",
    "    return True"
   ]
  },
  {
   "cell_type": "code",
   "execution_count": 2,
   "metadata": {
    "collapsed": false
   },
   "outputs": [
    {
     "name": "stdout",
     "output_type": "stream",
     "text": [
      "2.45 µs ± 40 ns per loop (mean ± std. dev. of 6 runs, 1000 loops each)\n"
     ]
    }
   ],
   "source": [
    "%%timeit -n1000 -r6\n",
    "assert is_prime(7) == True\n",
    "assert is_prime(14) == False\n",
    "assert is_prime(197) == True"
   ]
  }
 ],
 "metadata": {
  "anaconda-cloud": {},
  "kernelspec": {
   "display_name": "Python [conda env:aind]",
   "language": "python",
   "name": "conda-env-aind-py"
  },
  "language_info": {
   "codemirror_mode": {
    "name": "ipython",
    "version": 3
   },
   "file_extension": ".py",
   "mimetype": "text/x-python",
   "name": "python",
   "nbconvert_exporter": "python",
   "pygments_lexer": "ipython3",
   "version": "3.6.4"
  }
 },
 "nbformat": 4,
 "nbformat_minor": 2
}
