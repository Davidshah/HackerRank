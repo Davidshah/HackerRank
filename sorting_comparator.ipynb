{
 "cells": [
  {
   "cell_type": "markdown",
   "metadata": {},
   "source": [
    "# Sorting: Comparator\n",
    "---"
   ]
  },
  {
   "cell_type": "markdown",
   "metadata": {},
   "source": [
    "Comparators are used to compare two objects. In this challenge, you'll create a comparator and use it to sort an array. The Player class is provided in the editor below; it has two fields:\n",
    "\n",
    "1. A string, name.\n",
    "2. An integer, score.\n",
    "\n",
    "Given an array of `n` Player objects, write a comparator that sorts them in order of decreasing score; if 2 or more players have the same score, sort those players alphabetically by name. To do this, you must create a Checker class that implements the Comparator interface, then write an int compare(Player a, Player b) method implementing the Comparator.compare(T o1, T o2) method."
   ]
  },
  {
   "cell_type": "code",
   "execution_count": 1,
   "metadata": {
    "collapsed": true
   },
   "outputs": [],
   "source": [
    "from functools import cmp_to_key\n",
    "class Player:\n",
    "    def __init__(self, name, score):\n",
    "        self.name = name\n",
    "        self.score = score\n",
    "        \n",
    "    def comparator(a, b):\n",
    "        if a.score < b.score:\n",
    "            return 1\n",
    "        if a.score > b.score:\n",
    "            return -1\n",
    "        if a.name < b.name:\n",
    "            return -1\n",
    "        if a.name > b.name:\n",
    "            return 1\n",
    "        return 0"
   ]
  },
  {
   "cell_type": "code",
   "execution_count": 2,
   "metadata": {
    "collapsed": false
   },
   "outputs": [
    {
     "name": "stdout",
     "output_type": "stream",
     "text": [
      "sue 150\n",
      "amy 100\n",
      "david 100\n",
      "bob 50\n"
     ]
    }
   ],
   "source": [
    "data = [Player('amy', 100), Player('david', 100), Player('bob', 50), Player('sue', 150)]\n",
    "\n",
    "data = sorted(data, key=cmp_to_key(Player.comparator))\n",
    "for i in data:\n",
    "    print(i.name, i.score)"
   ]
  },
  {
   "cell_type": "code",
   "execution_count": 3,
   "metadata": {
    "collapsed": true
   },
   "outputs": [],
   "source": [
    "from functools import cmp_to_key\n",
    "class Player:\n",
    "    def __init__(self, name, score):\n",
    "        self.name = name\n",
    "        self.score = score\n",
    "        \n",
    "    def key(self):\n",
    "        return(-self.score, self.name)"
   ]
  },
  {
   "cell_type": "code",
   "execution_count": 4,
   "metadata": {
    "collapsed": false
   },
   "outputs": [
    {
     "name": "stdout",
     "output_type": "stream",
     "text": [
      "sue 150\n",
      "amy 100\n",
      "david 100\n",
      "bob 50\n"
     ]
    }
   ],
   "source": [
    "data = [Player('amy', 100), Player('david', 100), Player('bob', 50), Player('sue', 150)]\n",
    "data = sorted(data, key=Player.key)\n",
    "for i in data:\n",
    "    print(i.name, i.score)"
   ]
  }
 ],
 "metadata": {
  "kernelspec": {
   "display_name": "Python [conda env:aind]",
   "language": "python",
   "name": "conda-env-aind-py"
  },
  "language_info": {
   "codemirror_mode": {
    "name": "ipython",
    "version": 3
   },
   "file_extension": ".py",
   "mimetype": "text/x-python",
   "name": "python",
   "nbconvert_exporter": "python",
   "pygments_lexer": "ipython3",
   "version": "3.6.2"
  }
 },
 "nbformat": 4,
 "nbformat_minor": 2
}
